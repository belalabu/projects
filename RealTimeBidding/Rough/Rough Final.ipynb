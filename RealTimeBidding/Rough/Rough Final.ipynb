{
 "cells": [
  {
   "cell_type": "code",
   "execution_count": 1,
   "metadata": {},
   "outputs": [],
   "source": [
    "import pandas as pd\n",
    "import numpy as np\n",
    "import scipy\n",
    "import matplotlib.pyplot as plt\n",
    "import seaborn as sns\n",
    "sns.set_style('darkgrid')\n",
    "%matplotlib inline\n",
    "\n",
    "def warn(*args, **kwargs):\n",
    "    pass\n",
    "import warnings\n",
    "warnings.warn = warn #remove unnecessary warnings"
   ]
  },
  {
   "cell_type": "code",
   "execution_count": 2,
   "metadata": {},
   "outputs": [],
   "source": [
    "data = pd.read_csv('biddings.csv')\n",
    "dfo = pd.DataFrame(data)\n"
   ]
  },
  {
   "cell_type": "code",
   "execution_count": 36,
   "metadata": {},
   "outputs": [],
   "source": [
    "dfo = dfo.sort_values(by=['convert'])\n",
    "dfo = dfo.reset_index(drop=True)\n",
    "df_or = dfo.drop(dfo.index[0:992000]) #export to csv\n",
    "df_or.to_csv('biddings1.csv')\n",
    "# print(df_or.convert.value_counts())\n",
    "\n",
    "# df1 = dfo.drop(dfo.index[0:996200])\n"
   ]
  },
  {
   "cell_type": "code",
   "execution_count": 32,
   "metadata": {},
   "outputs": [
    {
     "name": "stdout",
     "output_type": "stream",
     "text": [
      "1    1908\n",
      "0    1892\n",
      "Name: convert, dtype: int64\n"
     ]
    },
    {
     "data": {
      "text/html": [
       "<div>\n",
       "<style scoped>\n",
       "    .dataframe tbody tr th:only-of-type {\n",
       "        vertical-align: middle;\n",
       "    }\n",
       "\n",
       "    .dataframe tbody tr th {\n",
       "        vertical-align: top;\n",
       "    }\n",
       "\n",
       "    .dataframe thead th {\n",
       "        text-align: right;\n",
       "    }\n",
       "</style>\n",
       "<table border=\"1\" class=\"dataframe\">\n",
       "  <thead>\n",
       "    <tr style=\"text-align: right;\">\n",
       "      <th></th>\n",
       "      <th>0</th>\n",
       "      <th>1</th>\n",
       "      <th>2</th>\n",
       "      <th>3</th>\n",
       "      <th>4</th>\n",
       "      <th>5</th>\n",
       "      <th>6</th>\n",
       "      <th>7</th>\n",
       "      <th>8</th>\n",
       "      <th>9</th>\n",
       "      <th>...</th>\n",
       "      <th>79</th>\n",
       "      <th>80</th>\n",
       "      <th>81</th>\n",
       "      <th>82</th>\n",
       "      <th>83</th>\n",
       "      <th>84</th>\n",
       "      <th>85</th>\n",
       "      <th>86</th>\n",
       "      <th>87</th>\n",
       "      <th>convert</th>\n",
       "    </tr>\n",
       "  </thead>\n",
       "  <tbody>\n",
       "    <tr>\n",
       "      <th>3795</th>\n",
       "      <td>0.04</td>\n",
       "      <td>-5.10</td>\n",
       "      <td>-2.14</td>\n",
       "      <td>0.04</td>\n",
       "      <td>1.37</td>\n",
       "      <td>-4.07</td>\n",
       "      <td>0.76</td>\n",
       "      <td>5.10</td>\n",
       "      <td>-4.58</td>\n",
       "      <td>-1.81</td>\n",
       "      <td>...</td>\n",
       "      <td>1.06</td>\n",
       "      <td>-0.51</td>\n",
       "      <td>2.46</td>\n",
       "      <td>1.03</td>\n",
       "      <td>0.43</td>\n",
       "      <td>0.59</td>\n",
       "      <td>-0.06</td>\n",
       "      <td>1.31</td>\n",
       "      <td>-0.36</td>\n",
       "      <td>1</td>\n",
       "    </tr>\n",
       "    <tr>\n",
       "      <th>3796</th>\n",
       "      <td>-0.00</td>\n",
       "      <td>-2.05</td>\n",
       "      <td>-1.77</td>\n",
       "      <td>0.04</td>\n",
       "      <td>1.51</td>\n",
       "      <td>-4.25</td>\n",
       "      <td>0.39</td>\n",
       "      <td>4.84</td>\n",
       "      <td>-4.50</td>\n",
       "      <td>-2.68</td>\n",
       "      <td>...</td>\n",
       "      <td>1.63</td>\n",
       "      <td>-0.40</td>\n",
       "      <td>-0.09</td>\n",
       "      <td>0.16</td>\n",
       "      <td>1.66</td>\n",
       "      <td>0.16</td>\n",
       "      <td>-0.08</td>\n",
       "      <td>-0.00</td>\n",
       "      <td>0.05</td>\n",
       "      <td>1</td>\n",
       "    </tr>\n",
       "    <tr>\n",
       "      <th>3797</th>\n",
       "      <td>-0.01</td>\n",
       "      <td>0.71</td>\n",
       "      <td>2.30</td>\n",
       "      <td>-0.23</td>\n",
       "      <td>-0.67</td>\n",
       "      <td>-0.05</td>\n",
       "      <td>0.24</td>\n",
       "      <td>0.11</td>\n",
       "      <td>0.43</td>\n",
       "      <td>0.55</td>\n",
       "      <td>...</td>\n",
       "      <td>-0.19</td>\n",
       "      <td>0.39</td>\n",
       "      <td>1.06</td>\n",
       "      <td>0.05</td>\n",
       "      <td>-0.87</td>\n",
       "      <td>-0.01</td>\n",
       "      <td>1.79</td>\n",
       "      <td>-0.76</td>\n",
       "      <td>0.22</td>\n",
       "      <td>1</td>\n",
       "    </tr>\n",
       "    <tr>\n",
       "      <th>3798</th>\n",
       "      <td>-0.02</td>\n",
       "      <td>2.15</td>\n",
       "      <td>-0.83</td>\n",
       "      <td>0.11</td>\n",
       "      <td>1.56</td>\n",
       "      <td>-4.30</td>\n",
       "      <td>0.34</td>\n",
       "      <td>4.17</td>\n",
       "      <td>-4.27</td>\n",
       "      <td>-3.92</td>\n",
       "      <td>...</td>\n",
       "      <td>1.63</td>\n",
       "      <td>0.43</td>\n",
       "      <td>0.11</td>\n",
       "      <td>-0.07</td>\n",
       "      <td>0.03</td>\n",
       "      <td>-0.00</td>\n",
       "      <td>-0.05</td>\n",
       "      <td>-0.12</td>\n",
       "      <td>0.09</td>\n",
       "      <td>1</td>\n",
       "    </tr>\n",
       "    <tr>\n",
       "      <th>3799</th>\n",
       "      <td>-0.01</td>\n",
       "      <td>-0.76</td>\n",
       "      <td>-4.40</td>\n",
       "      <td>-0.19</td>\n",
       "      <td>-0.76</td>\n",
       "      <td>2.45</td>\n",
       "      <td>0.92</td>\n",
       "      <td>-0.50</td>\n",
       "      <td>-0.18</td>\n",
       "      <td>0.01</td>\n",
       "      <td>...</td>\n",
       "      <td>0.01</td>\n",
       "      <td>-1.22</td>\n",
       "      <td>0.24</td>\n",
       "      <td>0.22</td>\n",
       "      <td>0.31</td>\n",
       "      <td>0.10</td>\n",
       "      <td>0.13</td>\n",
       "      <td>-0.17</td>\n",
       "      <td>0.08</td>\n",
       "      <td>1</td>\n",
       "    </tr>\n",
       "  </tbody>\n",
       "</table>\n",
       "<p>5 rows × 89 columns</p>\n",
       "</div>"
      ],
      "text/plain": [
       "         0     1     2     3     4     5     6     7     8     9   ...     \\\n",
       "3795  0.04 -5.10 -2.14  0.04  1.37 -4.07  0.76  5.10 -4.58 -1.81   ...      \n",
       "3796 -0.00 -2.05 -1.77  0.04  1.51 -4.25  0.39  4.84 -4.50 -2.68   ...      \n",
       "3797 -0.01  0.71  2.30 -0.23 -0.67 -0.05  0.24  0.11  0.43  0.55   ...      \n",
       "3798 -0.02  2.15 -0.83  0.11  1.56 -4.30  0.34  4.17 -4.27 -3.92   ...      \n",
       "3799 -0.01 -0.76 -4.40 -0.19 -0.76  2.45  0.92 -0.50 -0.18  0.01   ...      \n",
       "\n",
       "        79    80    81    82    83    84    85    86    87  convert  \n",
       "3795  1.06 -0.51  2.46  1.03  0.43  0.59 -0.06  1.31 -0.36        1  \n",
       "3796  1.63 -0.40 -0.09  0.16  1.66  0.16 -0.08 -0.00  0.05        1  \n",
       "3797 -0.19  0.39  1.06  0.05 -0.87 -0.01  1.79 -0.76  0.22        1  \n",
       "3798  1.63  0.43  0.11 -0.07  0.03 -0.00 -0.05 -0.12  0.09        1  \n",
       "3799  0.01 -1.22  0.24  0.22  0.31  0.10  0.13 -0.17  0.08        1  \n",
       "\n",
       "[5 rows x 89 columns]"
      ]
     },
     "execution_count": 32,
     "metadata": {},
     "output_type": "execute_result"
    }
   ],
   "source": [
    "df = df1.reset_index(drop=True) #reset index\n",
    "\n",
    "#Convert column = shown ad was clicked: 1 = clicked ad\n",
    "print(df.convert.value_counts())\n",
    "\n",
    "df.tail()"
   ]
  },
  {
   "cell_type": "code",
   "execution_count": 33,
   "metadata": {},
   "outputs": [
    {
     "data": {
      "text/plain": [
       "0    201\n",
       "1    179\n",
       "Name: convert, dtype: int64"
      ]
     },
     "execution_count": 33,
     "metadata": {},
     "output_type": "execute_result"
    }
   ],
   "source": [
    "from sklearn.model_selection import train_test_split\n",
    "\n",
    "x = df.drop(['convert'],axis=1) #training features\n",
    "y = df.convert #target\n",
    "\n",
    "#Set our train/test values\n",
    "x_train, x_test, y_train, y_test = train_test_split(x, y,\n",
    "                                                  test_size = .10)\n",
    "#Test sample\n",
    "y_test.value_counts()\n"
   ]
  },
  {
   "cell_type": "code",
   "execution_count": 34,
   "metadata": {},
   "outputs": [
    {
     "data": {
      "text/plain": [
       "1    1729\n",
       "0    1691\n",
       "Name: convert, dtype: int64"
      ]
     },
     "execution_count": 34,
     "metadata": {},
     "output_type": "execute_result"
    }
   ],
   "source": [
    "y_train.value_counts()\n"
   ]
  },
  {
   "cell_type": "code",
   "execution_count": 35,
   "metadata": {},
   "outputs": [
    {
     "name": "stdout",
     "output_type": "stream",
     "text": [
      "Training accuracy LinearSVC is: 0.66\n",
      "Test accuracy LinearSVC is: 0.63\n",
      "Cross Val LinearSVC Accuracy: 0.64 (+/- 0.04)\n",
      "\n",
      "              precision    recall  f1-score   support\n",
      "\n",
      "           0       0.66      0.64      0.65       201\n",
      "           1       0.61      0.63      0.62       179\n",
      "\n",
      "   micro avg       0.63      0.63      0.63       380\n",
      "   macro avg       0.63      0.63      0.63       380\n",
      "weighted avg       0.64      0.63      0.63       380\n",
      "\n",
      "\n",
      "This LinearSVC runs at a speed of:\n",
      "1.28 ms ± 95.2 µs per loop (mean ± std. dev. of 7 runs, 1000 loops each)\n"
     ]
    }
   ],
   "source": [
    "#First model using our undersampled data\n",
    "from sklearn.svm import LinearSVC\n",
    "from sklearn.model_selection import cross_val_score\n",
    "from sklearn.metrics import classification_report\n",
    "\n",
    "clf = LinearSVC(random_state=42)\n",
    "clf.fit(x_train, y_train) \n",
    "\n",
    "print('Training accuracy LinearSVC is: %0.2f' % (clf.score(x_train, y_train)))\n",
    "print('Test accuracy LinearSVC is: %0.2f' % (clf.score(x_test, y_test)))\n",
    "\n",
    "scores = cross_val_score(clf, x_train, y_train, cv=5)\n",
    "print(\"Cross Val LinearSVC Accuracy: %0.2f (+/- %0.2f)\\n\" % (scores.mean(), scores.std() * 2))\n",
    "\n",
    "y_pred = clf.predict(x_test) #predict y based on x_test\n",
    "print(classification_report(y_test, y_pred)) #true value vs predicted value\n",
    "\n",
    "print('\\nThis LinearSVC runs at a speed of:')\n",
    "%timeit clf.predict(df.iloc[5:6, :88])"
   ]
  },
  {
   "cell_type": "code",
   "execution_count": 24,
   "metadata": {},
   "outputs": [
    {
     "name": "stdout",
     "output_type": "stream",
     "text": [
      "LinearSVC F1 Score: 0.75 \n",
      "\n"
     ]
    }
   ],
   "source": [
    "from sklearn.metrics import f1_score\n",
    "\n",
    "#Show f1 score \n",
    "print(\"LinearSVC F1 Score: %0.2f \\n\" % f1_score(y_test, y_pred))\n"
   ]
  },
  {
   "cell_type": "markdown",
   "metadata": {},
   "source": [
    "### Create new csv with new df as the dataset"
   ]
  },
  {
   "cell_type": "code",
   "execution_count": null,
   "metadata": {},
   "outputs": [],
   "source": []
  }
 ],
 "metadata": {
  "kernelspec": {
   "display_name": "Python 3",
   "language": "python",
   "name": "python3"
  },
  "language_info": {
   "codemirror_mode": {
    "name": "ipython",
    "version": 3
   },
   "file_extension": ".py",
   "mimetype": "text/x-python",
   "name": "python",
   "nbconvert_exporter": "python",
   "pygments_lexer": "ipython3",
   "version": "3.7.2"
  }
 },
 "nbformat": 4,
 "nbformat_minor": 2
}
