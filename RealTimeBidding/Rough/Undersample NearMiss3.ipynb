{
 "cells": [
  {
   "cell_type": "code",
   "execution_count": 1,
   "metadata": {},
   "outputs": [],
   "source": [
    "import pandas as pd\n",
    "import numpy as np\n",
    "import scipy\n",
    "import matplotlib.pyplot as plt\n",
    "import seaborn as sns\n",
    "sns.set_style('darkgrid')\n",
    "%matplotlib inline\n",
    "\n",
    "def warn(*args, **kwargs):\n",
    "    pass\n",
    "import warnings\n",
    "warnings.warn = warn"
   ]
  },
  {
   "cell_type": "code",
   "execution_count": 107,
   "metadata": {},
   "outputs": [],
   "source": [
    "data = pd.read_csv('biddings.csv')\n",
    "dfo = pd.DataFrame(data)\n"
   ]
  },
  {
   "cell_type": "code",
   "execution_count": 108,
   "metadata": {},
   "outputs": [
    {
     "data": {
      "text/html": [
       "<div>\n",
       "<style scoped>\n",
       "    .dataframe tbody tr th:only-of-type {\n",
       "        vertical-align: middle;\n",
       "    }\n",
       "\n",
       "    .dataframe tbody tr th {\n",
       "        vertical-align: top;\n",
       "    }\n",
       "\n",
       "    .dataframe thead th {\n",
       "        text-align: right;\n",
       "    }\n",
       "</style>\n",
       "<table border=\"1\" class=\"dataframe\">\n",
       "  <thead>\n",
       "    <tr style=\"text-align: right;\">\n",
       "      <th></th>\n",
       "      <th>0</th>\n",
       "      <th>1</th>\n",
       "      <th>2</th>\n",
       "      <th>3</th>\n",
       "      <th>4</th>\n",
       "      <th>5</th>\n",
       "      <th>6</th>\n",
       "      <th>7</th>\n",
       "      <th>8</th>\n",
       "      <th>9</th>\n",
       "      <th>...</th>\n",
       "      <th>79</th>\n",
       "      <th>80</th>\n",
       "      <th>81</th>\n",
       "      <th>82</th>\n",
       "      <th>83</th>\n",
       "      <th>84</th>\n",
       "      <th>85</th>\n",
       "      <th>86</th>\n",
       "      <th>87</th>\n",
       "      <th>convert</th>\n",
       "    </tr>\n",
       "  </thead>\n",
       "  <tbody>\n",
       "    <tr>\n",
       "      <th>249995</th>\n",
       "      <td>-0.02</td>\n",
       "      <td>2.39</td>\n",
       "      <td>-1.20</td>\n",
       "      <td>-0.69</td>\n",
       "      <td>0.94</td>\n",
       "      <td>0.57</td>\n",
       "      <td>0.19</td>\n",
       "      <td>0.03</td>\n",
       "      <td>-0.41</td>\n",
       "      <td>-0.53</td>\n",
       "      <td>...</td>\n",
       "      <td>0.08</td>\n",
       "      <td>-0.07</td>\n",
       "      <td>-0.31</td>\n",
       "      <td>-1.00</td>\n",
       "      <td>0.09</td>\n",
       "      <td>-0.76</td>\n",
       "      <td>-0.10</td>\n",
       "      <td>0.05</td>\n",
       "      <td>-0.05</td>\n",
       "      <td>0</td>\n",
       "    </tr>\n",
       "    <tr>\n",
       "      <th>249996</th>\n",
       "      <td>-0.01</td>\n",
       "      <td>2.03</td>\n",
       "      <td>-1.99</td>\n",
       "      <td>-0.63</td>\n",
       "      <td>0.77</td>\n",
       "      <td>-1.61</td>\n",
       "      <td>0.10</td>\n",
       "      <td>1.64</td>\n",
       "      <td>-0.28</td>\n",
       "      <td>2.22</td>\n",
       "      <td>...</td>\n",
       "      <td>-0.03</td>\n",
       "      <td>-0.02</td>\n",
       "      <td>0.04</td>\n",
       "      <td>0.12</td>\n",
       "      <td>-0.05</td>\n",
       "      <td>0.07</td>\n",
       "      <td>0.06</td>\n",
       "      <td>0.66</td>\n",
       "      <td>-0.18</td>\n",
       "      <td>0</td>\n",
       "    </tr>\n",
       "    <tr>\n",
       "      <th>249997</th>\n",
       "      <td>-0.02</td>\n",
       "      <td>2.04</td>\n",
       "      <td>2.11</td>\n",
       "      <td>-0.30</td>\n",
       "      <td>0.14</td>\n",
       "      <td>-0.59</td>\n",
       "      <td>0.31</td>\n",
       "      <td>-0.80</td>\n",
       "      <td>0.11</td>\n",
       "      <td>0.23</td>\n",
       "      <td>...</td>\n",
       "      <td>0.09</td>\n",
       "      <td>-1.03</td>\n",
       "      <td>-0.55</td>\n",
       "      <td>0.05</td>\n",
       "      <td>0.39</td>\n",
       "      <td>0.01</td>\n",
       "      <td>-0.68</td>\n",
       "      <td>0.26</td>\n",
       "      <td>-0.13</td>\n",
       "      <td>0</td>\n",
       "    </tr>\n",
       "    <tr>\n",
       "      <th>249998</th>\n",
       "      <td>-0.01</td>\n",
       "      <td>-2.39</td>\n",
       "      <td>2.04</td>\n",
       "      <td>-0.09</td>\n",
       "      <td>-0.22</td>\n",
       "      <td>-0.58</td>\n",
       "      <td>0.16</td>\n",
       "      <td>-1.47</td>\n",
       "      <td>0.37</td>\n",
       "      <td>-0.67</td>\n",
       "      <td>...</td>\n",
       "      <td>0.06</td>\n",
       "      <td>0.92</td>\n",
       "      <td>-0.62</td>\n",
       "      <td>-0.14</td>\n",
       "      <td>-1.04</td>\n",
       "      <td>2.37</td>\n",
       "      <td>-0.44</td>\n",
       "      <td>-0.57</td>\n",
       "      <td>0.12</td>\n",
       "      <td>0</td>\n",
       "    </tr>\n",
       "    <tr>\n",
       "      <th>249999</th>\n",
       "      <td>-0.01</td>\n",
       "      <td>0.80</td>\n",
       "      <td>-4.22</td>\n",
       "      <td>-0.21</td>\n",
       "      <td>-0.69</td>\n",
       "      <td>2.71</td>\n",
       "      <td>2.85</td>\n",
       "      <td>-0.51</td>\n",
       "      <td>-0.33</td>\n",
       "      <td>0.08</td>\n",
       "      <td>...</td>\n",
       "      <td>-0.15</td>\n",
       "      <td>0.17</td>\n",
       "      <td>0.67</td>\n",
       "      <td>0.15</td>\n",
       "      <td>2.70</td>\n",
       "      <td>0.23</td>\n",
       "      <td>0.12</td>\n",
       "      <td>1.49</td>\n",
       "      <td>-0.46</td>\n",
       "      <td>0</td>\n",
       "    </tr>\n",
       "  </tbody>\n",
       "</table>\n",
       "<p>5 rows × 89 columns</p>\n",
       "</div>"
      ],
      "text/plain": [
       "           0     1     2     3     4     5     6     7     8     9   ...     \\\n",
       "249995 -0.02  2.39 -1.20 -0.69  0.94  0.57  0.19  0.03 -0.41 -0.53   ...      \n",
       "249996 -0.01  2.03 -1.99 -0.63  0.77 -1.61  0.10  1.64 -0.28  2.22   ...      \n",
       "249997 -0.02  2.04  2.11 -0.30  0.14 -0.59  0.31 -0.80  0.11  0.23   ...      \n",
       "249998 -0.01 -2.39  2.04 -0.09 -0.22 -0.58  0.16 -1.47  0.37 -0.67   ...      \n",
       "249999 -0.01  0.80 -4.22 -0.21 -0.69  2.71  2.85 -0.51 -0.33  0.08   ...      \n",
       "\n",
       "          79    80    81    82    83    84    85    86    87  convert  \n",
       "249995  0.08 -0.07 -0.31 -1.00  0.09 -0.76 -0.10  0.05 -0.05        0  \n",
       "249996 -0.03 -0.02  0.04  0.12 -0.05  0.07  0.06  0.66 -0.18        0  \n",
       "249997  0.09 -1.03 -0.55  0.05  0.39  0.01 -0.68  0.26 -0.13        0  \n",
       "249998  0.06  0.92 -0.62 -0.14 -1.04  2.37 -0.44 -0.57  0.12        0  \n",
       "249999 -0.15  0.17  0.67  0.15  2.70  0.23  0.12  1.49 -0.46        0  \n",
       "\n",
       "[5 rows x 89 columns]"
      ]
     },
     "execution_count": 108,
     "metadata": {},
     "output_type": "execute_result"
    }
   ],
   "source": [
    "df = dfo.iloc[:250000, ] \n",
    "df.tail()"
   ]
  },
  {
   "cell_type": "code",
   "execution_count": 75,
   "metadata": {},
   "outputs": [
    {
     "data": {
      "text/plain": [
       "0    998092\n",
       "1      1908\n",
       "Name: convert, dtype: int64"
      ]
     },
     "execution_count": 75,
     "metadata": {},
     "output_type": "execute_result"
    }
   ],
   "source": [
    "#Convert column = shown ad was clicked: 1 = clicked ad\n",
    "df.convert.value_counts()"
   ]
  },
  {
   "cell_type": "markdown",
   "metadata": {},
   "source": [
    "### Severely underbalanced\n",
    "\n",
    "Converted accounts for 1908/999999 = .191% of our data\n",
    "\n",
    "We will have to oversample or undersample our target. Most likely undersample to minimize our noise\n",
    "\n",
    "I will use RandomUnderSampler, NearMiss, and EditedNearestNeighbors\n",
    "to underersample our target here first to get baselines"
   ]
  },
  {
   "cell_type": "code",
   "execution_count": 103,
   "metadata": {},
   "outputs": [],
   "source": [
    "from sklearn.model_selection import train_test_split\n",
    "\n",
    "# x = df.drop(['convert'],axis=1) #training features\n",
    "# y = df.convert #target\n",
    "\n",
    "#Need to set our train/test values before undersampling\n",
    "x_train, x_test, y_train, y_test = train_test_split(X_resampled, y_resampled,\n",
    "                                                  test_size = .10)"
   ]
  },
  {
   "cell_type": "code",
   "execution_count": 105,
   "metadata": {},
   "outputs": [
    {
     "name": "stdout",
     "output_type": "stream",
     "text": [
      "[(0, 196), (1, 186)]\n"
     ]
    }
   ],
   "source": [
    "print(sorted(Counter(y_test).items()))\n"
   ]
  },
  {
   "cell_type": "code",
   "execution_count": 96,
   "metadata": {},
   "outputs": [
    {
     "data": {
      "text/plain": [
       "0    1248\n",
       "1       2\n",
       "Name: convert, dtype: int64"
      ]
     },
     "execution_count": 96,
     "metadata": {},
     "output_type": "execute_result"
    }
   ],
   "source": [
    "y_test.value_counts()"
   ]
  },
  {
   "cell_type": "code",
   "execution_count": 97,
   "metadata": {},
   "outputs": [
    {
     "name": "stdout",
     "output_type": "stream",
     "text": [
      "[(0, 1908), (1, 1908)]\n"
     ]
    }
   ],
   "source": [
    "from collections import Counter\n",
    "from imblearn.under_sampling import NearMiss\n",
    "\n",
    "nm1 = NearMiss(version=3)\n",
    "X_resampled, y_resampled = nm1.fit_resample(x, y)\n",
    "print(sorted(Counter(y_resampled).items()))\n",
    "\n"
   ]
  },
  {
   "cell_type": "code",
   "execution_count": 106,
   "metadata": {},
   "outputs": [
    {
     "name": "stdout",
     "output_type": "stream",
     "text": [
      "Training accuracy LinearSVC is: 0.675596971461852\n",
      "Test accuracy LinearSVC is: 0.6596858638743456\n",
      "Cross Val LinearSVC Accuracy: 0.63 (+/- 0.17)\n",
      "              precision    recall  f1-score   support\n",
      "\n",
      "           0       0.67      0.66      0.67       196\n",
      "           1       0.65      0.66      0.65       186\n",
      "\n",
      "   micro avg       0.66      0.66      0.66       382\n",
      "   macro avg       0.66      0.66      0.66       382\n",
      "weighted avg       0.66      0.66      0.66       382\n",
      "\n"
     ]
    }
   ],
   "source": [
    "#First model using our undersampled data (RandomUnderSampler)\n",
    "from sklearn.svm import LinearSVC\n",
    "from sklearn.model_selection import cross_val_score\n",
    "from sklearn.metrics import classification_report\n",
    "\n",
    "clf = LinearSVC()\n",
    "clf.fit(x_train, y_train) \n",
    "\n",
    "print('Training accuracy LinearSVC is: {}'.format(clf.score(x_train, y_train)))\n",
    "print('Test accuracy LinearSVC is: {}'.format(clf.score(x_test, y_test)))\n",
    "\n",
    "scores = cross_val_score(clf, X_resampled, y_resampled, cv=5)\n",
    "print(\"Cross Val LinearSVC Accuracy: %0.2f (+/- %0.2f)\" % (scores.mean(), scores.std() * 2))\n",
    "\n",
    "\n",
    "y_pred = clf.predict(x_test) #predict y based on x_test\n",
    "print(classification_report(y_test, y_pred)) #true value vs predicted value"
   ]
  },
  {
   "cell_type": "code",
   "execution_count": 79,
   "metadata": {},
   "outputs": [
    {
     "name": "stdout",
     "output_type": "stream",
     "text": [
      "Training accuracy normal RandomForest is: 0.7656158785755983\n",
      "Test accuracy normal RandomForest is: 0.35704\n",
      "Cross Val LinearSVC Accuracy: 0.65 (+/- 0.17)\n",
      "              precision    recall  f1-score   support\n",
      "\n",
      "           0       1.00      0.36      0.53     99805\n",
      "           1       0.00      0.63      0.00       195\n",
      "\n",
      "   micro avg       0.36      0.36      0.36    100000\n",
      "   macro avg       0.50      0.49      0.26    100000\n",
      "weighted avg       1.00      0.36      0.52    100000\n",
      "\n"
     ]
    }
   ],
   "source": [
    "from sklearn import ensemble\n",
    "\n",
    "params = {'n_estimators': 750,\n",
    "          'max_features': 'log2',\n",
    "          'max_depth': 6}\n",
    "\n",
    "rfc = ensemble.RandomForestClassifier(**params)\n",
    "rfc.fit(X_resampled, y_resampled)\n",
    "\n",
    "print('Training accuracy normal RandomForest is: {}'.format(rfc.score(X_resampled, y_resampled)))\n",
    "print('Test accuracy normal RandomForest is: {}'.format(rfc.score(x_test, y_test)))\n",
    "\n",
    "scores = cross_val_score(rfc, X_resampled, y_resampled, cv=5)\n",
    "print(\"Cross Val LinearSVC Accuracy: %0.2f (+/- %0.2f)\" % (scores.mean(), scores.std() * 2))\n",
    "\n",
    "y_pred = rfc.predict(x_test) #predict y based on x_test\n",
    "print(classification_report(y_test, y_pred)) #true value vs predicted value"
   ]
  },
  {
   "cell_type": "code",
   "execution_count": 80,
   "metadata": {},
   "outputs": [
    {
     "name": "stdout",
     "output_type": "stream",
     "text": [
      "Training accuracy normal GradientBoosting is: 0.9985405720957384\n",
      "Test accuracy normal GradientBoosting is: 0.30918\n",
      "              precision    recall  f1-score   support\n",
      "\n",
      "           0       1.00      0.31      0.47     99805\n",
      "           1       0.00      0.68      0.00       195\n",
      "\n",
      "   micro avg       0.31      0.31      0.31    100000\n",
      "   macro avg       0.50      0.49      0.24    100000\n",
      "weighted avg       1.00      0.31      0.47    100000\n",
      "\n"
     ]
    }
   ],
   "source": [
    "params = {'n_estimators': 750,\n",
    "          'max_features': 'log2',\n",
    "          'max_depth': 6}\n",
    "\n",
    "clf1 = ensemble.GradientBoostingClassifier(**params)\n",
    "clf1.fit(X_resampled, y_resampled)\n",
    "\n",
    "print('Training accuracy normal GradientBoosting is: {}'.format(clf1.score(X_resampled, y_resampled)))\n",
    "print('Test accuracy normal GradientBoosting is: {}'.format(clf1.score(x_test, y_test)))\n",
    "\n",
    "y_pred = clf1.predict(x_test) #predict y based on x_test\n",
    "print(classification_report(y_test, y_pred)) #true value vs predicted value"
   ]
  },
  {
   "cell_type": "code",
   "execution_count": 22,
   "metadata": {},
   "outputs": [
    {
     "name": "stdout",
     "output_type": "stream",
     "text": [
      "Cross Val LinearSVC Accuracy: 0.94 (+/- 0.09)\n"
     ]
    }
   ],
   "source": [
    "scores = cross_val_score(clf1, X_resampled, y_resampled, cv=5)\n",
    "print(\"Cross Val LinearSVC Accuracy: %0.2f (+/- %0.2f)\" % (scores.mean(), scores.std() * 2))"
   ]
  },
  {
   "cell_type": "code",
   "execution_count": 33,
   "metadata": {},
   "outputs": [
    {
     "data": {
      "text/plain": [
       "{'max_depth': 6, 'max_features': 'log2', 'n_estimators': 750}"
      ]
     },
     "execution_count": 33,
     "metadata": {},
     "output_type": "execute_result"
    }
   ],
   "source": [
    "from sklearn.model_selection import GridSearchCV\n",
    "\n",
    "param_grid = { \n",
    "    'n_estimators': [750],\n",
    "    'max_features': ['log2'],\n",
    "    'max_depth' : [4,5,6]\n",
    "}\n",
    "\n",
    "CV_clf = GridSearchCV(estimator=rfr, param_grid=param_grid, cv= 6)\n",
    "CV_clf.fit(X_resampled, y_resampled)\n",
    "\n",
    "CV_clf.best_params_"
   ]
  },
  {
   "cell_type": "code",
   "execution_count": 85,
   "metadata": {},
   "outputs": [
    {
     "data": {
      "text/plain": [
       "0.5047423244557656"
      ]
     },
     "execution_count": 85,
     "metadata": {},
     "output_type": "execute_result"
    }
   ],
   "source": [
    "from sklearn.metrics import balanced_accuracy_score\n",
    "from sklearn.metrics import f1_score\n",
    "\n",
    "y_pred = clf.predict(x_test) #predict y based on x_test\n",
    "balanced_accuracy_score(y_test, y_pred)"
   ]
  },
  {
   "cell_type": "code",
   "execution_count": 86,
   "metadata": {},
   "outputs": [
    {
     "data": {
      "text/plain": [
       "0.00393927619149706"
      ]
     },
     "execution_count": 86,
     "metadata": {},
     "output_type": "execute_result"
    }
   ],
   "source": [
    "f1_score(y_test, y_pred)"
   ]
  },
  {
   "cell_type": "code",
   "execution_count": 87,
   "metadata": {},
   "outputs": [
    {
     "name": "stdout",
     "output_type": "stream",
     "text": [
      "1.65 ms ± 423 µs per loop (mean ± std. dev. of 7 runs, 1 loop each)\n"
     ]
    }
   ],
   "source": [
    "%timeit clf.predict(df.iloc[5:6, 0:88] )"
   ]
  },
  {
   "cell_type": "code",
   "execution_count": 33,
   "metadata": {},
   "outputs": [
    {
     "data": {
      "text/plain": [
       "366"
      ]
     },
     "execution_count": 33,
     "metadata": {},
     "output_type": "execute_result"
    }
   ],
   "source": []
  },
  {
   "cell_type": "code",
   "execution_count": null,
   "metadata": {},
   "outputs": [],
   "source": []
  }
 ],
 "metadata": {
  "kernelspec": {
   "display_name": "Python 3",
   "language": "python",
   "name": "python3"
  },
  "language_info": {
   "codemirror_mode": {
    "name": "ipython",
    "version": 3
   },
   "file_extension": ".py",
   "mimetype": "text/x-python",
   "name": "python",
   "nbconvert_exporter": "python",
   "pygments_lexer": "ipython3",
   "version": "3.7.2"
  }
 },
 "nbformat": 4,
 "nbformat_minor": 2
}
