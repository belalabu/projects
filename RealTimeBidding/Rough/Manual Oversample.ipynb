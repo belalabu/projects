{
 "cells": [
  {
   "cell_type": "code",
   "execution_count": 2,
   "metadata": {},
   "outputs": [],
   "source": [
    "import pandas as pd\n",
    "import numpy as np\n",
    "import scipy\n",
    "import matplotlib.pyplot as plt\n",
    "import seaborn as sns\n",
    "sns.set_style('darkgrid')\n",
    "%matplotlib inline\n",
    "\n",
    "def warn(*args, **kwargs):\n",
    "    pass\n",
    "import warnings\n",
    "warnings.warn = warn"
   ]
  },
  {
   "cell_type": "code",
   "execution_count": 3,
   "metadata": {},
   "outputs": [
    {
     "data": {
      "text/plain": [
       "0    998092\n",
       "1      1908\n",
       "Name: convert, dtype: int64"
      ]
     },
     "execution_count": 3,
     "metadata": {},
     "output_type": "execute_result"
    }
   ],
   "source": [
    "data = pd.read_csv('biddings.csv')\n",
    "dfo = pd.DataFrame(data)\n",
    "dfo.convert.value_counts()"
   ]
  },
  {
   "cell_type": "code",
   "execution_count": 57,
   "metadata": {},
   "outputs": [
    {
     "data": {
      "text/html": [
       "<div>\n",
       "<style scoped>\n",
       "    .dataframe tbody tr th:only-of-type {\n",
       "        vertical-align: middle;\n",
       "    }\n",
       "\n",
       "    .dataframe tbody tr th {\n",
       "        vertical-align: top;\n",
       "    }\n",
       "\n",
       "    .dataframe thead th {\n",
       "        text-align: right;\n",
       "    }\n",
       "</style>\n",
       "<table border=\"1\" class=\"dataframe\">\n",
       "  <thead>\n",
       "    <tr style=\"text-align: right;\">\n",
       "      <th></th>\n",
       "      <th>0</th>\n",
       "      <th>1</th>\n",
       "      <th>2</th>\n",
       "      <th>3</th>\n",
       "      <th>4</th>\n",
       "      <th>5</th>\n",
       "      <th>6</th>\n",
       "      <th>7</th>\n",
       "      <th>8</th>\n",
       "      <th>9</th>\n",
       "      <th>...</th>\n",
       "      <th>79</th>\n",
       "      <th>80</th>\n",
       "      <th>81</th>\n",
       "      <th>82</th>\n",
       "      <th>83</th>\n",
       "      <th>84</th>\n",
       "      <th>85</th>\n",
       "      <th>86</th>\n",
       "      <th>87</th>\n",
       "      <th>convert</th>\n",
       "    </tr>\n",
       "  </thead>\n",
       "  <tbody>\n",
       "    <tr>\n",
       "      <th>0</th>\n",
       "      <td>-0.00</td>\n",
       "      <td>-4.14</td>\n",
       "      <td>1.88</td>\n",
       "      <td>-0.49</td>\n",
       "      <td>0.63</td>\n",
       "      <td>0.36</td>\n",
       "      <td>-0.04</td>\n",
       "      <td>0.38</td>\n",
       "      <td>-0.26</td>\n",
       "      <td>0.82</td>\n",
       "      <td>...</td>\n",
       "      <td>-0.12</td>\n",
       "      <td>-0.33</td>\n",
       "      <td>0.44</td>\n",
       "      <td>0.30</td>\n",
       "      <td>2.76</td>\n",
       "      <td>0.68</td>\n",
       "      <td>-0.27</td>\n",
       "      <td>-1.27</td>\n",
       "      <td>0.37</td>\n",
       "      <td>0</td>\n",
       "    </tr>\n",
       "    <tr>\n",
       "      <th>1</th>\n",
       "      <td>-0.02</td>\n",
       "      <td>1.90</td>\n",
       "      <td>2.59</td>\n",
       "      <td>-0.55</td>\n",
       "      <td>0.85</td>\n",
       "      <td>0.19</td>\n",
       "      <td>-0.14</td>\n",
       "      <td>-0.09</td>\n",
       "      <td>-0.13</td>\n",
       "      <td>-0.31</td>\n",
       "      <td>...</td>\n",
       "      <td>0.10</td>\n",
       "      <td>0.30</td>\n",
       "      <td>-0.34</td>\n",
       "      <td>0.90</td>\n",
       "      <td>-0.12</td>\n",
       "      <td>1.14</td>\n",
       "      <td>-0.22</td>\n",
       "      <td>0.29</td>\n",
       "      <td>-0.09</td>\n",
       "      <td>0</td>\n",
       "    </tr>\n",
       "    <tr>\n",
       "      <th>2</th>\n",
       "      <td>-0.01</td>\n",
       "      <td>0.85</td>\n",
       "      <td>2.53</td>\n",
       "      <td>-0.49</td>\n",
       "      <td>0.71</td>\n",
       "      <td>0.32</td>\n",
       "      <td>0.02</td>\n",
       "      <td>-0.83</td>\n",
       "      <td>0.11</td>\n",
       "      <td>-1.67</td>\n",
       "      <td>...</td>\n",
       "      <td>0.57</td>\n",
       "      <td>0.40</td>\n",
       "      <td>-1.75</td>\n",
       "      <td>2.77</td>\n",
       "      <td>-0.29</td>\n",
       "      <td>0.23</td>\n",
       "      <td>-0.17</td>\n",
       "      <td>-0.64</td>\n",
       "      <td>0.20</td>\n",
       "      <td>0</td>\n",
       "    </tr>\n",
       "    <tr>\n",
       "      <th>3</th>\n",
       "      <td>-0.01</td>\n",
       "      <td>0.52</td>\n",
       "      <td>2.28</td>\n",
       "      <td>-0.59</td>\n",
       "      <td>0.80</td>\n",
       "      <td>0.24</td>\n",
       "      <td>0.04</td>\n",
       "      <td>0.24</td>\n",
       "      <td>-0.22</td>\n",
       "      <td>0.45</td>\n",
       "      <td>...</td>\n",
       "      <td>0.13</td>\n",
       "      <td>-0.94</td>\n",
       "      <td>-0.40</td>\n",
       "      <td>0.00</td>\n",
       "      <td>-1.36</td>\n",
       "      <td>-0.06</td>\n",
       "      <td>-0.20</td>\n",
       "      <td>-0.67</td>\n",
       "      <td>0.22</td>\n",
       "      <td>0</td>\n",
       "    </tr>\n",
       "    <tr>\n",
       "      <th>4</th>\n",
       "      <td>-0.02</td>\n",
       "      <td>1.94</td>\n",
       "      <td>2.71</td>\n",
       "      <td>-0.51</td>\n",
       "      <td>0.81</td>\n",
       "      <td>0.21</td>\n",
       "      <td>-0.19</td>\n",
       "      <td>-0.29</td>\n",
       "      <td>-0.08</td>\n",
       "      <td>-0.71</td>\n",
       "      <td>...</td>\n",
       "      <td>-0.23</td>\n",
       "      <td>-0.29</td>\n",
       "      <td>0.81</td>\n",
       "      <td>-0.34</td>\n",
       "      <td>0.10</td>\n",
       "      <td>-1.44</td>\n",
       "      <td>-0.22</td>\n",
       "      <td>0.09</td>\n",
       "      <td>-0.03</td>\n",
       "      <td>0</td>\n",
       "    </tr>\n",
       "  </tbody>\n",
       "</table>\n",
       "<p>5 rows × 89 columns</p>\n",
       "</div>"
      ],
      "text/plain": [
       "      0     1     2     3     4     5     6     7     8     9   ...       79  \\\n",
       "0 -0.00 -4.14  1.88 -0.49  0.63  0.36 -0.04  0.38 -0.26  0.82   ...    -0.12   \n",
       "1 -0.02  1.90  2.59 -0.55  0.85  0.19 -0.14 -0.09 -0.13 -0.31   ...     0.10   \n",
       "2 -0.01  0.85  2.53 -0.49  0.71  0.32  0.02 -0.83  0.11 -1.67   ...     0.57   \n",
       "3 -0.01  0.52  2.28 -0.59  0.80  0.24  0.04  0.24 -0.22  0.45   ...     0.13   \n",
       "4 -0.02  1.94  2.71 -0.51  0.81  0.21 -0.19 -0.29 -0.08 -0.71   ...    -0.23   \n",
       "\n",
       "     80    81    82    83    84    85    86    87  convert  \n",
       "0 -0.33  0.44  0.30  2.76  0.68 -0.27 -1.27  0.37        0  \n",
       "1  0.30 -0.34  0.90 -0.12  1.14 -0.22  0.29 -0.09        0  \n",
       "2  0.40 -1.75  2.77 -0.29  0.23 -0.17 -0.64  0.20        0  \n",
       "3 -0.94 -0.40  0.00 -1.36 -0.06 -0.20 -0.67  0.22        0  \n",
       "4 -0.29  0.81 -0.34  0.10 -1.44 -0.22  0.09 -0.03        0  \n",
       "\n",
       "[5 rows x 89 columns]"
      ]
     },
     "execution_count": 57,
     "metadata": {},
     "output_type": "execute_result"
    }
   ],
   "source": [
    "dfo = dfo.sort_values(by=['convert'])\n",
    "dfo = dfo.reset_index(drop=True)\n",
    "df1 = dfo.drop(dfo.index[0:997900])\n",
    "\n",
    "df = df1.reset_index(drop=True)\n",
    "df.head()"
   ]
  },
  {
   "cell_type": "code",
   "execution_count": 44,
   "metadata": {},
   "outputs": [
    {
     "data": {
      "text/plain": [
       "1    1908\n",
       "0     192\n",
       "Name: convert, dtype: int64"
      ]
     },
     "execution_count": 44,
     "metadata": {},
     "output_type": "execute_result"
    }
   ],
   "source": [
    "#Convert column = shown ad was clicked: 1 = clicked ad\n",
    "df.convert.value_counts()"
   ]
  },
  {
   "cell_type": "markdown",
   "metadata": {},
   "source": [
    "### Severely underbalanced\n",
    "\n",
    "Converted accounts for 1908/999999 = .191% of our data\n",
    "\n",
    "We will have to oversample or undersample our target. Most likely undersample to minimize our noise\n",
    "\n",
    "I will use RandomUnderSampler, NearMiss, and EditedNearestNeighbors\n",
    "to underersample our target here first to get baselines\n",
    "\n",
    "After doing that the accuracy of models was a bit lower than desirable, I will try a different resampling technique. That is SMOTEEN which combines under/over sampling"
   ]
  },
  {
   "cell_type": "code",
   "execution_count": 45,
   "metadata": {},
   "outputs": [],
   "source": [
    "from sklearn.model_selection import train_test_split\n",
    "\n",
    "x = df.drop(['convert'],axis=1) #training features\n",
    "y = df.convert #target\n",
    "\n",
    "#Need to set our train/test values before resampling\n",
    "x_train, x_test, y_train, y_test = train_test_split(x, y,\n",
    "                                                  test_size = .1)"
   ]
  },
  {
   "cell_type": "code",
   "execution_count": 46,
   "metadata": {},
   "outputs": [
    {
     "name": "stdout",
     "output_type": "stream",
     "text": [
      "[(0, 1723), (1, 1723)]\n"
     ]
    }
   ],
   "source": [
    "from collections import Counter\n",
    "from imblearn.over_sampling import SMOTE, ADASYN\n",
    "\n",
    "#Oversample\n",
    "\n",
    "X_resampled, y_resampled = SMOTE().fit_resample(x_train, y_train)\n",
    "print(sorted(Counter(y_resampled).items()))\n"
   ]
  },
  {
   "cell_type": "code",
   "execution_count": 47,
   "metadata": {},
   "outputs": [
    {
     "name": "stdout",
     "output_type": "stream",
     "text": [
      "Training accuracy LinearSVC is: 0.6993615786419036\n",
      "Test accuracy LinearSVC is: 0.5952380952380952\n",
      "              precision    recall  f1-score   support\n",
      "\n",
      "           0       0.17      0.64      0.27        25\n",
      "           1       0.92      0.59      0.72       185\n",
      "\n",
      "   micro avg       0.60      0.60      0.60       210\n",
      "   macro avg       0.55      0.61      0.50       210\n",
      "weighted avg       0.83      0.60      0.67       210\n",
      "\n"
     ]
    }
   ],
   "source": [
    "#First model using our oversampled data (SMOTE)\n",
    "from sklearn.svm import LinearSVC\n",
    "from sklearn.model_selection import cross_val_score\n",
    "\n",
    "clf = LinearSVC()\n",
    "clf.fit(X_resampled, y_resampled) \n",
    "\n",
    "print('Training accuracy LinearSVC is: {}'.format(clf.score(X_resampled, y_resampled)))\n",
    "print('Test accuracy LinearSVC is: {}'.format(clf.score(x_test, y_test)))\n",
    "\n",
    "from sklearn.metrics import classification_report\n",
    "\n",
    "y_pred = clf.predict(x_test) #predict y based on x_test\n",
    "print(classification_report(y_test, y_pred)) #true value vs predicted value\n",
    "\n",
    "# scores = cross_val_score(clf, X_resampled, y_resampled, cv=5)\n",
    "# print(\"Cross Val LinearSVC Accuracy: %0.2f (+/- %0.2f)\" % (scores.mean(), scores.std() * 2))"
   ]
  },
  {
   "cell_type": "code",
   "execution_count": 48,
   "metadata": {},
   "outputs": [
    {
     "name": "stdout",
     "output_type": "stream",
     "text": [
      "Training accuracy normal RandomForest is: 0.9158444573418456\n",
      "Test accuracy normal RandomForest is: 0.7095238095238096\n",
      "              precision    recall  f1-score   support\n",
      "\n",
      "           0       0.19      0.44      0.27        25\n",
      "           1       0.91      0.75      0.82       185\n",
      "\n",
      "   micro avg       0.71      0.71      0.71       210\n",
      "   macro avg       0.55      0.59      0.54       210\n",
      "weighted avg       0.82      0.71      0.75       210\n",
      "\n"
     ]
    }
   ],
   "source": [
    "from sklearn import ensemble\n",
    "\n",
    "params = {'n_estimators': 600,\n",
    "          'max_features': 'log2',\n",
    "          'max_depth': 6}\n",
    "\n",
    "rfc = ensemble.RandomForestClassifier(**params)\n",
    "rfc.fit(X_resampled, y_resampled)\n",
    "\n",
    "print('Training accuracy normal RandomForest is: {}'.format(rfc.score(X_resampled, y_resampled)))\n",
    "print('Test accuracy normal RandomForest is: {}'.format(rfc.score(x_test, y_test)))\n",
    "\n",
    "\n",
    "y_pred = rfc.predict(x_test) #predict y based on x_test\n",
    "print(classification_report(y_test, y_pred)) #true value vs predicted value\n",
    "\n",
    "# scores = cross_val_score(rfc, X_resampled, y_resampled, cv=5)\n",
    "# print(\"Cross Val RandomForestClassifier Accuracy: %0.2f (+/- %0.2f)\" % (scores.mean(), scores.std() * 2))"
   ]
  },
  {
   "cell_type": "code",
   "execution_count": 49,
   "metadata": {},
   "outputs": [
    {
     "name": "stdout",
     "output_type": "stream",
     "text": [
      "Training accuracy normal GradientBoosting is: 0.9994196169471852\n",
      "Test accuracy normal GradientBoosting is: 0.8761904761904762\n",
      "              precision    recall  f1-score   support\n",
      "\n",
      "           0       0.43      0.12      0.19        25\n",
      "           1       0.89      0.98      0.93       185\n",
      "\n",
      "   micro avg       0.88      0.88      0.88       210\n",
      "   macro avg       0.66      0.55      0.56       210\n",
      "weighted avg       0.84      0.88      0.84       210\n",
      "\n"
     ]
    }
   ],
   "source": [
    "params = {'n_estimators': 500,\n",
    "          'max_features': 'sqrt',\n",
    "          'max_depth': 4}\n",
    "\n",
    "clf1 = ensemble.GradientBoostingClassifier(**params)\n",
    "clf1.fit(X_resampled, y_resampled)\n",
    "\n",
    "print('Training accuracy normal GradientBoosting is: {}'.format(clf1.score(X_resampled, y_resampled)))\n",
    "print('Test accuracy normal GradientBoosting is: {}'.format(clf1.score(x_test, y_test)))\n",
    "\n",
    "\n",
    "y_pred = clf1.predict(x_test) #predict y based on x_test\n",
    "print(classification_report(y_test, y_pred)) #true value vs predicted value\n",
    "\n",
    "# scores = cross_val_score(clf1, X_resampled, y_resampled, cv=5)\n",
    "# print(\"Cross Val GradientBoostingClassifier Accuracy: %0.2f (+/- %0.2f)\" % (scores.mean(), scores.std() * 2))"
   ]
  },
  {
   "cell_type": "code",
   "execution_count": 50,
   "metadata": {
    "scrolled": true
   },
   "outputs": [
    {
     "data": {
      "text/plain": [
       "{'max_depth': 6, 'max_features': 'sqrt', 'n_estimators': 400}"
      ]
     },
     "execution_count": 50,
     "metadata": {},
     "output_type": "execute_result"
    }
   ],
   "source": [
    "from sklearn.model_selection import GridSearchCV\n",
    "\n",
    "param_grid = { \n",
    "    'n_estimators': [400,500,600],\n",
    "    'max_features': ['sqrt','log2'],\n",
    "    'max_depth' : [4,5,6]\n",
    "}\n",
    "\n",
    "CV_clf = GridSearchCV(estimator=rfc, param_grid=param_grid, cv= 3)\n",
    "CV_clf.fit(X_resampled, y_resampled)\n",
    "\n",
    "CV_clf.best_params_"
   ]
  },
  {
   "cell_type": "code",
   "execution_count": 51,
   "metadata": {},
   "outputs": [
    {
     "data": {
      "text/plain": [
       "array([0.1875    , 0.93298969])"
      ]
     },
     "execution_count": 51,
     "metadata": {},
     "output_type": "execute_result"
    }
   ],
   "source": [
    "from sklearn.metrics import f1_score\n",
    "f1_score(y_test, y_pred, average=None)\n"
   ]
  },
  {
   "cell_type": "code",
   "execution_count": 52,
   "metadata": {},
   "outputs": [
    {
     "data": {
      "text/plain": [
       "0.6145945945945945"
      ]
     },
     "execution_count": 52,
     "metadata": {},
     "output_type": "execute_result"
    }
   ],
   "source": [
    "from sklearn.metrics import balanced_accuracy_score\n",
    "\n",
    "y_pred = clf.predict(x_test) #predict y based on x_test\n",
    "balanced_accuracy_score(y_test, y_pred)\n"
   ]
  },
  {
   "cell_type": "code",
   "execution_count": 53,
   "metadata": {},
   "outputs": [],
   "source": [
    "#SMOTE beats RandomOverSampling AND ADASYN "
   ]
  },
  {
   "cell_type": "code",
   "execution_count": 54,
   "metadata": {},
   "outputs": [
    {
     "name": "stdout",
     "output_type": "stream",
     "text": [
      "872 µs ± 53.3 µs per loop (mean ± std. dev. of 7 runs, 1000 loops each)\n"
     ]
    }
   ],
   "source": [
    "%timeit clf.predict(df.iloc[5:6, 0:88] )"
   ]
  },
  {
   "cell_type": "code",
   "execution_count": 55,
   "metadata": {},
   "outputs": [
    {
     "name": "stdout",
     "output_type": "stream",
     "text": [
      "42.2 ms ± 764 µs per loop (mean ± std. dev. of 7 runs, 10 loops each)\n"
     ]
    }
   ],
   "source": [
    "%timeit rfc.predict(df.iloc[5:6, 0:88] )"
   ]
  },
  {
   "cell_type": "code",
   "execution_count": 56,
   "metadata": {},
   "outputs": [
    {
     "name": "stdout",
     "output_type": "stream",
     "text": [
      "1.14 ms ± 43 µs per loop (mean ± std. dev. of 7 runs, 1000 loops each)\n"
     ]
    }
   ],
   "source": [
    "%timeit clf1.predict(df.iloc[5:6, 0:88] )"
   ]
  },
  {
   "cell_type": "code",
   "execution_count": null,
   "metadata": {},
   "outputs": [],
   "source": []
  }
 ],
 "metadata": {
  "kernelspec": {
   "display_name": "Python 3",
   "language": "python",
   "name": "python3"
  },
  "language_info": {
   "codemirror_mode": {
    "name": "ipython",
    "version": 3
   },
   "file_extension": ".py",
   "mimetype": "text/x-python",
   "name": "python",
   "nbconvert_exporter": "python",
   "pygments_lexer": "ipython3",
   "version": "3.7.2"
  }
 },
 "nbformat": 4,
 "nbformat_minor": 2
}
